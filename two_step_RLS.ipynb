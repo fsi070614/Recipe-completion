{
 "cells": [
  {
   "cell_type": "code",
   "execution_count": 1,
   "metadata": {},
   "outputs": [],
   "source": [
    "import pandas as pd\n",
    "import numpy as np\n",
    "from sklearn.metrics import pairwise as pw"
   ]
  },
  {
   "cell_type": "raw",
   "metadata": {},
   "source": [
    "'''\n",
    "Two step regularized least squares for dyadic problems. \n",
    "Specific for recipe completion based on Flavor Network.\n",
    "\n",
    "reference\n",
    "---------\n",
    "[1] Tapio Pahikala, A Two step learning approach for dyadic problems\n",
    "[2] \n",
    "\n",
    "\n",
    "\n",
    "'''"
   ]
  },
  {
   "cell_type": "code",
   "execution_count": null,
   "metadata": {},
   "outputs": [],
   "source": [
    "# remains for test and main section"
   ]
  },
  {
   "cell_type": "code",
   "execution_count": 2,
   "metadata": {},
   "outputs": [],
   "source": [
    "class TwoStepRLS:\n",
    "    \"\"\"\n",
    "    Parameters\n",
    "    ---------\n",
    "    x1: data of reci-ingr data, shape = [n_recipe, n_ingr]\n",
    "    x2: data of ingr-flavor data, shape = [n_ingr, n_flavor]\n",
    "    kType: kernel type: \"G\" for Gaussian_kernel, \"L\" for linear_kernel, \"P\" for polynomial_kernel \n",
    "    \"\"\"\n",
    "    def __init__(self, x1, x2, kType):\n",
    "        self.x1 = x1\n",
    "        self.x2 = x2\n",
    "        self.kType = kType\n",
    "        \n",
    "    def solve():\n",
    "        pass\n",
    "\n",
    "    def Kernel(xx, kType):\n",
    "        \"\"\"\n",
    "        Parameters\n",
    "        ----------\n",
    "        xx: data matrix, shape = [n_samples, n_data]\n",
    "        kType: kernel type: \"G\" for Gaussian_kernel, \"L\" for linear_kernel, \"P\" for polynomial_kernel \n",
    "        \"\"\"\n",
    "        if kType == \"G\":\n",
    "            return pw.rbf_kernel(xx)\n",
    "        elif kType ==\"L\":\n",
    "            return pw.linear_kernel(xx)\n",
    "        elif kType ==\"P\":\n",
    "            return pw.polynomial_kernel(xx)\n",
    "    def cv():\n",
    "        pass"
   ]
  },
  {
   "cell_type": "code",
   "execution_count": null,
   "metadata": {},
   "outputs": [],
   "source": []
  }
 ],
 "metadata": {
  "kernelspec": {
   "display_name": "Python 3",
   "language": "python",
   "name": "python3"
  },
  "language_info": {
   "codemirror_mode": {
    "name": "ipython",
    "version": 3
   },
   "file_extension": ".py",
   "mimetype": "text/x-python",
   "name": "python",
   "nbconvert_exporter": "python",
   "pygments_lexer": "ipython3",
   "version": "3.7.0"
  }
 },
 "nbformat": 4,
 "nbformat_minor": 2
}

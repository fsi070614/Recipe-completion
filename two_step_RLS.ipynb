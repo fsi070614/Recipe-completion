{
 "cells": [
  {
   "cell_type": "code",
   "execution_count": 1,
   "metadata": {},
   "outputs": [],
   "source": [
    "import pandas as pd\n",
    "import numpy as np\n",
    "from numpy.linalg import inv\n",
    "from numpy.linalg import eig\n",
    "from sklearn.metrics import pairwise as pw\n",
    "import time"
   ]
  },
  {
   "cell_type": "raw",
   "metadata": {},
   "source": [
    "'''\n",
    "Two step regularized least squares for dyadic problems. \n",
    "Specific for recipe completion based on Flavor Network.\n",
    "\n",
    "reference\n",
    "---------\n",
    "[1] Tapio Pahikala, A Two step learning approach for dyadic problems\n",
    "[2] \n",
    "\n",
    "\n",
    "\n",
    "'''"
   ]
  },
  {
   "cell_type": "code",
   "execution_count": 2,
   "metadata": {},
   "outputs": [],
   "source": [
    "# remains for test and main section"
   ]
  },
  {
   "cell_type": "code",
   "execution_count": 3,
   "metadata": {},
   "outputs": [],
   "source": [
    "class TwoStepRLS:\n",
    "    \"\"\"\n",
    "    Parameters\n",
    "    ---------\n",
    "    x1: data of reci-ingr data, shape = [n_recipe, n_ingr]\n",
    "    x2: data of ingr-flavor data, shape = [n_ingr, n_flavor]\n",
    "    KERNEL: kernel type: \"G\" for Gaussian_kernel, \"L\" for linear_kernel, \"P\" for polynomial_kernel \n",
    "    Y: ingredient to predict, shape = [n_sample, n_ingr]\n",
    "    \"\"\"\n",
    "    def __init__(self, x1, x2, reparam1, reparam2, Y, KERNEL):\n",
    "        self.x1 = x1\n",
    "        self.x2 = x2\n",
    "        self.KERNEL = KERNEL\n",
    "        self.k1 = self.to_kernel(x1, KERNEL) \n",
    "        self.k2 = self.to_kernel(x2, KERNEL)\n",
    "        \n",
    "        \n",
    "    def solve(self):\n",
    "        #decom get evalues and evector\n",
    "        eigen_value1, eigen_vector1 = eig(as_array(self.k1))\n",
    "        \n",
    "        G1 = eigen_vector1 @ (1/ (eigen_value1 + reparam1)) @ eigen_vector1.T\n",
    "        \n",
    "        eigen_value2, eigen_vector2 = eig(as_array(self.k2))\n",
    "        G2 = eigen_vector2 @ (1/ (eigen_value2 + reparam2)) @ eigen_vector2.T\n",
    "        ## Y = k_u @ (G1 @ Y @ G2) @ k_v\n",
    "        pass\n",
    "    \n",
    "    def predictor(self, k_u):\n",
    "        pass\n",
    "    \n",
    "    def as_array(self, mm):\n",
    "        aa = []\n",
    "        for row in mm:\n",
    "            aa.append(row)\n",
    "        return mm\n",
    "        \n",
    "        \n",
    "    def to_kernel(self, ii, KERNEL):\n",
    "        \"\"\"\n",
    "        Parameters\n",
    "        ----------\n",
    "        xx: data matrix, shape = [n_samples, n_data]\n",
    "        KERNEL: kernel type: \"G\" for Gaussian_kernel, \"L\" for linear_kernel, \"P\" for polynomial_kernel \n",
    "        \"\"\"\n",
    "        if KERNEL == \"G\":\n",
    "            return pw.rbf_kernel(ii)\n",
    "        elif KERNEL ==\"L\":\n",
    "            return pw.linear_kernel(ii)\n",
    "        elif KERNEL ==\"P\":\n",
    "            return pw.polynomial_kernel(ii)\n",
    "        \n",
    "        \n",
    "    def cv():\n",
    "        # MCCV Monte Carlo Cross validation\n",
    "        # LOOCV\n",
    "        # kFCV\n",
    "        pass"
   ]
  },
  {
   "cell_type": "code",
   "execution_count": 18,
   "metadata": {},
   "outputs": [],
   "source": [
    "df1 = pd.read_csv(r\".\\data\\test_recip_ingr.csv\")\n",
    "df2 = pd.read_csv(r\".\\data\\matrix_ingr_comp.csv\")"
   ]
  },
  {
   "cell_type": "code",
   "execution_count": 19,
   "metadata": {},
   "outputs": [],
   "source": [
    "y = [1]"
   ]
  },
  {
   "cell_type": "code",
   "execution_count": 20,
   "metadata": {},
   "outputs": [],
   "source": [
    "t1 = time.time()\n",
    "rls = TwoStepRLS(df1, df2, 0, 0, y, \"L\")\n",
    "eigen_value1, eigen_vector1 = eig(rls.as_array(rls.k1))\n",
    "W = eigen_vector1 @ (1/ (eigen_value1 + 0.2)) @ eigen_vector1.T\n",
    "eigen_value2, eigen_vector2 = eig(rls.as_array(rls.k2))\n",
    "t2 = time.time()"
   ]
  },
  {
   "cell_type": "code",
   "execution_count": 21,
   "metadata": {},
   "outputs": [
    {
     "data": {
      "text/plain": [
       "36.29733228683472"
      ]
     },
     "execution_count": 21,
     "metadata": {},
     "output_type": "execute_result"
    }
   ],
   "source": [
    "t2-t1"
   ]
  },
  {
   "cell_type": "code",
   "execution_count": null,
   "metadata": {},
   "outputs": [],
   "source": []
  },
  {
   "cell_type": "code",
   "execution_count": null,
   "metadata": {},
   "outputs": [],
   "source": []
  },
  {
   "cell_type": "code",
   "execution_count": null,
   "metadata": {},
   "outputs": [],
   "source": [
    "\n"
   ]
  },
  {
   "cell_type": "code",
   "execution_count": null,
   "metadata": {},
   "outputs": [],
   "source": []
  },
  {
   "cell_type": "code",
   "execution_count": null,
   "metadata": {},
   "outputs": [],
   "source": []
  }
 ],
 "metadata": {
  "kernelspec": {
   "display_name": "Python 3",
   "language": "python",
   "name": "python3"
  },
  "language_info": {
   "codemirror_mode": {
    "name": "ipython",
    "version": 3
   },
   "file_extension": ".py",
   "mimetype": "text/x-python",
   "name": "python",
   "nbconvert_exporter": "python",
   "pygments_lexer": "ipython3",
   "version": "3.6.7"
  }
 },
 "nbformat": 4,
 "nbformat_minor": 2
}

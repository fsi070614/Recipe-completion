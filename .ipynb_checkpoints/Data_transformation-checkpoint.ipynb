{
 "cells": [
  {
   "cell_type": "code",
   "execution_count": 1,
   "metadata": {
    "colab": {},
    "colab_type": "code",
    "id": "qSPewyL5J7Qc"
   },
   "outputs": [],
   "source": [
    "import pandas as pd\n",
    "import numpy as np"
   ]
  },
  {
   "cell_type": "code",
   "execution_count": 2,
   "metadata": {
    "colab": {},
    "colab_type": "code",
    "id": "Rx2iZHWNK0__"
   },
   "outputs": [],
   "source": [
    "'''\n",
    "Transforming dataset of flavor Network\n",
    "\n",
    "Finally saved data with column names and row names in csv format\n",
    "Columns and rows are defined as IDs.\n",
    "\n",
    "'''\n",
    "\n",
    "rec_names = [\"region\"]\n",
    "rec_names = rec_names + [\"ingredient {0}\".format(i+1) for i in range(32)]"
   ]
  },
  {
   "cell_type": "code",
   "execution_count": 3,
   "metadata": {
    "colab": {},
    "colab_type": "code",
    "id": "XTm39n__K62c"
   },
   "outputs": [],
   "source": [
    "recipes_data = pd.read_csv(r\".\\data\\recipes.csv\", dtype = \"str\", names = rec_names)\n",
    "ingr_data = pd.read_csv(r\".\\data\\ingr_info.tsv\", dtype = \"str\", sep = '\\t')\n",
    "comp_data = pd.read_csv(r\".\\data\\comp_info.tsv\", dtype = \"str\", sep ='\\t')\n",
    "ingr_comp_data = pd.read_csv(r\".\\data\\ingr_comp.tsv\", dtype = \"str\", sep = '\\t')"
   ]
  },
  {
   "cell_type": "code",
   "execution_count": 4,
   "metadata": {
    "colab": {
     "base_uri": "https://localhost:8080/",
     "height": 34
    },
    "colab_type": "code",
    "id": "vH1uimpAOXkr",
    "outputId": "0d148790-4718-4d23-ecd2-b36bc1f6e113"
   },
   "outputs": [
    {
     "data": {
      "text/plain": [
       "(1530, 3)"
      ]
     },
     "execution_count": 4,
     "metadata": {},
     "output_type": "execute_result"
    }
   ],
   "source": [
    "ingr_data.shape"
   ]
  },
  {
   "cell_type": "code",
   "execution_count": 5,
   "metadata": {
    "colab": {
     "base_uri": "https://localhost:8080/",
     "height": 34
    },
    "colab_type": "code",
    "id": "sYEKxfUNNbBZ",
    "outputId": "f1ea24dc-5910-4793-b432-f123cbbb07a6"
   },
   "outputs": [
    {
     "data": {
      "text/plain": [
       "(1107, 3)"
      ]
     },
     "execution_count": 5,
     "metadata": {},
     "output_type": "execute_result"
    }
   ],
   "source": [
    "comp_data.shape"
   ]
  },
  {
   "cell_type": "markdown",
   "metadata": {
    "colab_type": "text",
    "id": "HgzBqgWwHV6y"
   },
   "source": [
    "# ingredient-compound"
   ]
  },
  {
   "cell_type": "code",
   "execution_count": 6,
   "metadata": {
    "colab": {},
    "colab_type": "code",
    "id": "XTZ4Rfr1vgo8"
   },
   "outputs": [],
   "source": [
    "# matrix = ingredient * compounds \n",
    "cols = [i for i in range(1107)]\n",
    "temp = np.zeros((1530,1107), dtype = np.int)"
   ]
  },
  {
   "cell_type": "code",
   "execution_count": 7,
   "metadata": {
    "colab": {},
    "colab_type": "code",
    "id": "xi63tfwA4f_k"
   },
   "outputs": [],
   "source": [
    "# ingredient-compound\n",
    "for idx, row in ingr_comp_data.iterrows():\n",
    "  iID = int(row[\"# ingredient id\"])\n",
    "  cID = int(row[\"compound id\"])\n",
    "  temp[iID, cID] = 1 \n",
    "df_ingr_comp = pd.DataFrame(data = temp)"
   ]
  },
  {
   "cell_type": "code",
   "execution_count": 8,
   "metadata": {
    "colab": {},
    "colab_type": "code",
    "id": "hSHk_xD91dD4"
   },
   "outputs": [],
   "source": [
    "xx = 3\n",
    "mask = df_ingr_comp.iloc[xx] == 1\n",
    "#print(df_ingr_comp.iloc[xx][mask])"
   ]
  },
  {
   "cell_type": "code",
   "execution_count": 9,
   "metadata": {
    "colab": {},
    "colab_type": "code",
    "id": "nvgfQ7umxN4Q"
   },
   "outputs": [],
   "source": [
    "mask_2 = ingr_comp_data[\"# ingredient id\"] == str(xx)\n",
    "#ingr_comp_data[mask_2]"
   ]
  },
  {
   "cell_type": "code",
   "execution_count": 10,
   "metadata": {
    "colab": {},
    "colab_type": "code",
    "id": "00MAzZKrXzTK"
   },
   "outputs": [],
   "source": [
    "pd.DataFrame.to_csv(df_ingr_comp, r\".\\data\\matrix_ingr_comp.csv\", ',')"
   ]
  },
  {
   "cell_type": "markdown",
   "metadata": {
    "colab_type": "text",
    "id": "ef2ccITk81OL"
   },
   "source": [
    "# Recipe-ingredient"
   ]
  },
  {
   "cell_type": "code",
   "execution_count": 11,
   "metadata": {
    "colab": {},
    "colab_type": "code",
    "id": "FpP0GDv580Az"
   },
   "outputs": [],
   "source": [
    "recipes_data.shape\n",
    "cols2 = recipes_data.columns[1:]\n",
    "df_recipes = recipes_data[cols2]\n",
    "df_regions = recipes_data[\"region\"]"
   ]
  },
  {
   "cell_type": "code",
   "execution_count": 12,
   "metadata": {
    "colab": {},
    "colab_type": "code",
    "id": "ask_STTGGK5v"
   },
   "outputs": [],
   "source": [
    "temp2 = np.zeros((56498, 1530), dtype = np.int)"
   ]
  },
  {
   "cell_type": "code",
   "execution_count": 13,
   "metadata": {
    "colab": {},
    "colab_type": "code",
    "id": "MGzQG6189Em9"
   },
   "outputs": [],
   "source": [
    "dict_ingr =  {}\n",
    "invert_dict = {}\n",
    "for idx, row in ingr_data.iterrows():\n",
    "  dict_ingr[row[\"ingredient name\"]] = idx\n",
    "  invert_dict[idx] = row[\"ingredient name\"]\n",
    "for idx, rec in df_recipes.iterrows():\n",
    "  for ingr in rec:\n",
    "    if not (pd.isnull(ingr)):\n",
    "      rID = idx\n",
    "      iID = dict_ingr[ingr]\n",
    "      temp2[rID, iID] = 1\n",
    "df_recip_ingr = pd.DataFrame(data = temp2)"
   ]
  },
  {
   "cell_type": "code",
   "execution_count": 14,
   "metadata": {
    "colab": {
     "base_uri": "https://localhost:8080/",
     "height": 224
    },
    "colab_type": "code",
    "id": "bzXdOcKZ9l3w",
    "outputId": "5ff6a4f9-9426-4e8f-edec-9832f54d6758"
   },
   "outputs": [],
   "source": [
    "#df_recip_ingr.head()"
   ]
  },
  {
   "cell_type": "code",
   "execution_count": 15,
   "metadata": {
    "colab": {},
    "colab_type": "code",
    "id": "9kjt8tiu-red"
   },
   "outputs": [],
   "source": [
    "rr = 3\n",
    "mask2 = df_recip_ingr.iloc[rr] == 1\n",
    "ii = df_recip_ingr.iloc[rr][mask2]\n",
    "temp3 = [invert_dict[i] for i in ii.index.tolist()] "
   ]
  },
  {
   "cell_type": "code",
   "execution_count": 16,
   "metadata": {
    "colab": {
     "base_uri": "https://localhost:8080/",
     "height": 101
    },
    "colab_type": "code",
    "id": "KdYu75TEGRcc",
    "outputId": "f6d0987d-e26b-4c7f-9731-c2fed1440a5e"
   },
   "outputs": [
    {
     "name": "stdout",
     "output_type": "stream",
     "text": [
      "matrix:\n",
      " ['garlic', 'rice', 'beef', 'leek', 'cumin', 'olive_oil', 'wheat', 'cardamom', 'onion', 'pepper']\n",
      "length of matrix:  10\n",
      "data: \n",
      " ['olive_oil', 'pepper', 'wheat', 'beef', 'onion', 'cardamom', 'cumin', 'garlic', 'rice', 'leek']\n"
     ]
    }
   ],
   "source": [
    "print(\"matrix:\\n\", temp3)\n",
    "print(\"length of matrix: \", len(temp3))\n",
    "print(\"data: \\n\", recipes_data.iloc[rr].dropna().values[1:].tolist())"
   ]
  },
  {
   "cell_type": "code",
   "execution_count": 26,
   "metadata": {
    "colab": {},
    "colab_type": "code",
    "id": "BxbkWW-WGWhF"
   },
   "outputs": [],
   "source": [
    "pd.DataFrame.to_csv(df_recip_ingr, r\".\\data\\matrix_recip_ingr.csv\", \",\")"
   ]
  },
  {
   "cell_type": "code",
   "execution_count": 22,
   "metadata": {
    "colab": {},
    "colab_type": "code",
    "id": "kjKLckzeVCf2"
   },
   "outputs": [],
   "source": [
    "# save part of the data 5000*1530\n",
    "pd.DataFrame.to_csv(df_recip_ingr.head(5000), r\".\\data\\test_recip_ingr.csv\", \",\")"
   ]
  },
  {
   "cell_type": "code",
   "execution_count": null,
   "metadata": {},
   "outputs": [],
   "source": []
  }
 ],
 "metadata": {
  "colab": {
   "collapsed_sections": [],
   "name": "data_transformation.ipynb",
   "provenance": [],
   "toc_visible": true,
   "version": "0.3.2"
  },
  "kernelspec": {
   "display_name": "Python 3",
   "language": "python",
   "name": "python3"
  },
  "language_info": {
   "codemirror_mode": {
    "name": "ipython",
    "version": 3
   },
   "file_extension": ".py",
   "mimetype": "text/x-python",
   "name": "python",
   "nbconvert_exporter": "python",
   "pygments_lexer": "ipython3",
   "version": "3.7.0"
  }
 },
 "nbformat": 4,
 "nbformat_minor": 1
}

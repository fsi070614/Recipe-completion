{
 "cells": [
  {
   "cell_type": "code",
   "execution_count": 1,
   "metadata": {
    "colab": {},
    "colab_type": "code",
    "id": "qSPewyL5J7Qc"
   },
   "outputs": [],
   "source": [
    "import pandas as pd\n",
    "import numpy as np"
   ]
  },
  {
   "cell_type": "code",
   "execution_count": 2,
   "metadata": {
    "colab": {},
    "colab_type": "code",
    "id": "Rx2iZHWNK0__"
   },
   "outputs": [],
   "source": [
    "'''\n",
    "Transforming dataset of flavor Network\n",
    "\n",
    "Finally saved data with column names and row names in csv format\n",
    "Columns and rows are defined as IDs.\n",
    "\n",
    "'''\n",
    "\n",
    "rec_names = [\"region\"]\n",
    "rec_names = rec_names + [\"ingredient {0}\".format(i+1) for i in range(32)]"
   ]
  },
  {
   "cell_type": "code",
   "execution_count": 9,
   "metadata": {
    "colab": {},
    "colab_type": "code",
    "id": "XTm39n__K62c"
   },
   "outputs": [],
   "source": [
    "recipes_data = pd.read_csv(r\".\\data\\recipes.csv\", dtype = \"str\", names = rec_names)\n",
    "ingr_data = pd.read_csv(r\".\\data\\ingr_info.tsv\", dtype = \"str\", sep = '\\t')\n",
    "comp_data = pd.read_csv(r\".\\data\\comp_info.tsv\", dtype = \"str\", sep ='\\t')\n",
    "ingr_comp_data = pd.read_csv(r\".\\data\\ingr_comp.tsv\", dtype = \"str\", sep = '\\t')"
   ]
  },
  {
   "cell_type": "code",
   "execution_count": 12,
   "metadata": {},
   "outputs": [
    {
     "data": {
      "text/plain": [
       "(56498, 33)"
      ]
     },
     "execution_count": 12,
     "metadata": {},
     "output_type": "execute_result"
    }
   ],
   "source": [
    "recipes_data.shape"
   ]
  },
  {
   "cell_type": "code",
   "execution_count": 13,
   "metadata": {},
   "outputs": [
    {
     "data": {
      "text/html": [
       "<div>\n",
       "<style scoped>\n",
       "    .dataframe tbody tr th:only-of-type {\n",
       "        vertical-align: middle;\n",
       "    }\n",
       "\n",
       "    .dataframe tbody tr th {\n",
       "        vertical-align: top;\n",
       "    }\n",
       "\n",
       "    .dataframe thead th {\n",
       "        text-align: right;\n",
       "    }\n",
       "</style>\n",
       "<table border=\"1\" class=\"dataframe\">\n",
       "  <thead>\n",
       "    <tr style=\"text-align: right;\">\n",
       "      <th></th>\n",
       "      <th>region</th>\n",
       "      <th>ingredient 1</th>\n",
       "      <th>ingredient 2</th>\n",
       "      <th>ingredient 3</th>\n",
       "      <th>ingredient 4</th>\n",
       "      <th>ingredient 5</th>\n",
       "      <th>ingredient 6</th>\n",
       "      <th>ingredient 7</th>\n",
       "      <th>ingredient 8</th>\n",
       "      <th>ingredient 9</th>\n",
       "      <th>...</th>\n",
       "      <th>ingredient 23</th>\n",
       "      <th>ingredient 24</th>\n",
       "      <th>ingredient 25</th>\n",
       "      <th>ingredient 26</th>\n",
       "      <th>ingredient 27</th>\n",
       "      <th>ingredient 28</th>\n",
       "      <th>ingredient 29</th>\n",
       "      <th>ingredient 30</th>\n",
       "      <th>ingredient 31</th>\n",
       "      <th>ingredient 32</th>\n",
       "    </tr>\n",
       "  </thead>\n",
       "  <tbody>\n",
       "    <tr>\n",
       "      <th>0</th>\n",
       "      <td>African</td>\n",
       "      <td>chicken</td>\n",
       "      <td>cinnamon</td>\n",
       "      <td>soy_sauce</td>\n",
       "      <td>onion</td>\n",
       "      <td>ginger</td>\n",
       "      <td>NaN</td>\n",
       "      <td>NaN</td>\n",
       "      <td>NaN</td>\n",
       "      <td>NaN</td>\n",
       "      <td>...</td>\n",
       "      <td>NaN</td>\n",
       "      <td>NaN</td>\n",
       "      <td>NaN</td>\n",
       "      <td>NaN</td>\n",
       "      <td>NaN</td>\n",
       "      <td>NaN</td>\n",
       "      <td>NaN</td>\n",
       "      <td>NaN</td>\n",
       "      <td>NaN</td>\n",
       "      <td>NaN</td>\n",
       "    </tr>\n",
       "    <tr>\n",
       "      <th>1</th>\n",
       "      <td>African</td>\n",
       "      <td>cane_molasses</td>\n",
       "      <td>ginger</td>\n",
       "      <td>cumin</td>\n",
       "      <td>garlic</td>\n",
       "      <td>tamarind</td>\n",
       "      <td>bread</td>\n",
       "      <td>coriander</td>\n",
       "      <td>vinegar</td>\n",
       "      <td>onion</td>\n",
       "      <td>...</td>\n",
       "      <td>NaN</td>\n",
       "      <td>NaN</td>\n",
       "      <td>NaN</td>\n",
       "      <td>NaN</td>\n",
       "      <td>NaN</td>\n",
       "      <td>NaN</td>\n",
       "      <td>NaN</td>\n",
       "      <td>NaN</td>\n",
       "      <td>NaN</td>\n",
       "      <td>NaN</td>\n",
       "    </tr>\n",
       "    <tr>\n",
       "      <th>2</th>\n",
       "      <td>African</td>\n",
       "      <td>butter</td>\n",
       "      <td>pepper</td>\n",
       "      <td>onion</td>\n",
       "      <td>cardamom</td>\n",
       "      <td>cayenne</td>\n",
       "      <td>ginger</td>\n",
       "      <td>cottage_cheese</td>\n",
       "      <td>garlic</td>\n",
       "      <td>brassica</td>\n",
       "      <td>...</td>\n",
       "      <td>NaN</td>\n",
       "      <td>NaN</td>\n",
       "      <td>NaN</td>\n",
       "      <td>NaN</td>\n",
       "      <td>NaN</td>\n",
       "      <td>NaN</td>\n",
       "      <td>NaN</td>\n",
       "      <td>NaN</td>\n",
       "      <td>NaN</td>\n",
       "      <td>NaN</td>\n",
       "    </tr>\n",
       "    <tr>\n",
       "      <th>3</th>\n",
       "      <td>African</td>\n",
       "      <td>olive_oil</td>\n",
       "      <td>pepper</td>\n",
       "      <td>wheat</td>\n",
       "      <td>beef</td>\n",
       "      <td>onion</td>\n",
       "      <td>cardamom</td>\n",
       "      <td>cumin</td>\n",
       "      <td>garlic</td>\n",
       "      <td>rice</td>\n",
       "      <td>...</td>\n",
       "      <td>NaN</td>\n",
       "      <td>NaN</td>\n",
       "      <td>NaN</td>\n",
       "      <td>NaN</td>\n",
       "      <td>NaN</td>\n",
       "      <td>NaN</td>\n",
       "      <td>NaN</td>\n",
       "      <td>NaN</td>\n",
       "      <td>NaN</td>\n",
       "      <td>NaN</td>\n",
       "    </tr>\n",
       "    <tr>\n",
       "      <th>4</th>\n",
       "      <td>African</td>\n",
       "      <td>honey</td>\n",
       "      <td>wheat</td>\n",
       "      <td>yeast</td>\n",
       "      <td>NaN</td>\n",
       "      <td>NaN</td>\n",
       "      <td>NaN</td>\n",
       "      <td>NaN</td>\n",
       "      <td>NaN</td>\n",
       "      <td>NaN</td>\n",
       "      <td>...</td>\n",
       "      <td>NaN</td>\n",
       "      <td>NaN</td>\n",
       "      <td>NaN</td>\n",
       "      <td>NaN</td>\n",
       "      <td>NaN</td>\n",
       "      <td>NaN</td>\n",
       "      <td>NaN</td>\n",
       "      <td>NaN</td>\n",
       "      <td>NaN</td>\n",
       "      <td>NaN</td>\n",
       "    </tr>\n",
       "  </tbody>\n",
       "</table>\n",
       "<p>5 rows × 33 columns</p>\n",
       "</div>"
      ],
      "text/plain": [
       "    region   ingredient 1 ingredient 2 ingredient 3 ingredient 4 ingredient 5  \\\n",
       "0  African        chicken     cinnamon    soy_sauce        onion       ginger   \n",
       "1  African  cane_molasses       ginger        cumin       garlic     tamarind   \n",
       "2  African         butter       pepper        onion     cardamom      cayenne   \n",
       "3  African      olive_oil       pepper        wheat         beef        onion   \n",
       "4  African          honey        wheat        yeast          NaN          NaN   \n",
       "\n",
       "  ingredient 6    ingredient 7 ingredient 8 ingredient 9      ...       \\\n",
       "0          NaN             NaN          NaN          NaN      ...        \n",
       "1        bread       coriander      vinegar        onion      ...        \n",
       "2       ginger  cottage_cheese       garlic     brassica      ...        \n",
       "3     cardamom           cumin       garlic         rice      ...        \n",
       "4          NaN             NaN          NaN          NaN      ...        \n",
       "\n",
       "  ingredient 23 ingredient 24 ingredient 25 ingredient 26 ingredient 27  \\\n",
       "0           NaN           NaN           NaN           NaN           NaN   \n",
       "1           NaN           NaN           NaN           NaN           NaN   \n",
       "2           NaN           NaN           NaN           NaN           NaN   \n",
       "3           NaN           NaN           NaN           NaN           NaN   \n",
       "4           NaN           NaN           NaN           NaN           NaN   \n",
       "\n",
       "  ingredient 28 ingredient 29 ingredient 30 ingredient 31 ingredient 32  \n",
       "0           NaN           NaN           NaN           NaN           NaN  \n",
       "1           NaN           NaN           NaN           NaN           NaN  \n",
       "2           NaN           NaN           NaN           NaN           NaN  \n",
       "3           NaN           NaN           NaN           NaN           NaN  \n",
       "4           NaN           NaN           NaN           NaN           NaN  \n",
       "\n",
       "[5 rows x 33 columns]"
      ]
     },
     "execution_count": 13,
     "metadata": {},
     "output_type": "execute_result"
    }
   ],
   "source": [
    "recipes_data.head()"
   ]
  },
  {
   "cell_type": "code",
   "execution_count": 5,
   "metadata": {
    "colab": {
     "base_uri": "https://localhost:8080/",
     "height": 34
    },
    "colab_type": "code",
    "id": "vH1uimpAOXkr",
    "outputId": "0d148790-4718-4d23-ecd2-b36bc1f6e113"
   },
   "outputs": [
    {
     "data": {
      "text/plain": [
       "(1530, 3)"
      ]
     },
     "execution_count": 5,
     "metadata": {},
     "output_type": "execute_result"
    }
   ],
   "source": [
    "ingr_data.shape"
   ]
  },
  {
   "cell_type": "code",
   "execution_count": 33,
   "metadata": {},
   "outputs": [
    {
     "data": {
      "text/html": [
       "<div>\n",
       "<style scoped>\n",
       "    .dataframe tbody tr th:only-of-type {\n",
       "        vertical-align: middle;\n",
       "    }\n",
       "\n",
       "    .dataframe tbody tr th {\n",
       "        vertical-align: top;\n",
       "    }\n",
       "\n",
       "    .dataframe thead th {\n",
       "        text-align: right;\n",
       "    }\n",
       "</style>\n",
       "<table border=\"1\" class=\"dataframe\">\n",
       "  <thead>\n",
       "    <tr style=\"text-align: right;\">\n",
       "      <th></th>\n",
       "      <th># id</th>\n",
       "      <th>ingredient name</th>\n",
       "      <th>category</th>\n",
       "    </tr>\n",
       "  </thead>\n",
       "  <tbody>\n",
       "    <tr>\n",
       "      <th>0</th>\n",
       "      <td>0</td>\n",
       "      <td>magnolia_tripetala</td>\n",
       "      <td>flower</td>\n",
       "    </tr>\n",
       "    <tr>\n",
       "      <th>1</th>\n",
       "      <td>1</td>\n",
       "      <td>calyptranthes_parriculata</td>\n",
       "      <td>plant</td>\n",
       "    </tr>\n",
       "    <tr>\n",
       "      <th>2</th>\n",
       "      <td>2</td>\n",
       "      <td>chamaecyparis_pisifera_oil</td>\n",
       "      <td>plant derivative</td>\n",
       "    </tr>\n",
       "    <tr>\n",
       "      <th>3</th>\n",
       "      <td>3</td>\n",
       "      <td>mackerel</td>\n",
       "      <td>fish/seafood</td>\n",
       "    </tr>\n",
       "    <tr>\n",
       "      <th>4</th>\n",
       "      <td>4</td>\n",
       "      <td>mimusops_elengi_flower</td>\n",
       "      <td>flower</td>\n",
       "    </tr>\n",
       "  </tbody>\n",
       "</table>\n",
       "</div>"
      ],
      "text/plain": [
       "  # id             ingredient name          category\n",
       "0    0          magnolia_tripetala            flower\n",
       "1    1   calyptranthes_parriculata             plant\n",
       "2    2  chamaecyparis_pisifera_oil  plant derivative\n",
       "3    3                    mackerel      fish/seafood\n",
       "4    4      mimusops_elengi_flower            flower"
      ]
     },
     "execution_count": 33,
     "metadata": {},
     "output_type": "execute_result"
    }
   ],
   "source": [
    "ingr_data.head()"
   ]
  },
  {
   "cell_type": "code",
   "execution_count": 42,
   "metadata": {},
   "outputs": [
    {
     "data": {
      "text/html": [
       "<div>\n",
       "<style scoped>\n",
       "    .dataframe tbody tr th:only-of-type {\n",
       "        vertical-align: middle;\n",
       "    }\n",
       "\n",
       "    .dataframe tbody tr th {\n",
       "        vertical-align: top;\n",
       "    }\n",
       "\n",
       "    .dataframe thead th {\n",
       "        text-align: right;\n",
       "    }\n",
       "</style>\n",
       "<table border=\"1\" class=\"dataframe\">\n",
       "  <thead>\n",
       "    <tr style=\"text-align: right;\">\n",
       "      <th></th>\n",
       "      <th># id</th>\n",
       "      <th>ingredient name</th>\n",
       "      <th>category</th>\n",
       "    </tr>\n",
       "  </thead>\n",
       "  <tbody>\n",
       "    <tr>\n",
       "      <th>7</th>\n",
       "      <td>7</td>\n",
       "      <td>black_pepper</td>\n",
       "      <td>spice</td>\n",
       "    </tr>\n",
       "  </tbody>\n",
       "</table>\n",
       "</div>"
      ],
      "text/plain": [
       "  # id ingredient name category\n",
       "7    7    black_pepper    spice"
      ]
     },
     "execution_count": 42,
     "metadata": {},
     "output_type": "execute_result"
    }
   ],
   "source": [
    "ingr_data[ingr_data[\"# id\"] == '7']"
   ]
  },
  {
   "cell_type": "code",
   "execution_count": 7,
   "metadata": {
    "colab": {
     "base_uri": "https://localhost:8080/",
     "height": 34
    },
    "colab_type": "code",
    "id": "sYEKxfUNNbBZ",
    "outputId": "f1ea24dc-5910-4793-b432-f123cbbb07a6"
   },
   "outputs": [
    {
     "data": {
      "text/plain": [
       "(1107, 3)"
      ]
     },
     "execution_count": 7,
     "metadata": {},
     "output_type": "execute_result"
    }
   ],
   "source": [
    "comp_data.shape"
   ]
  },
  {
   "cell_type": "code",
   "execution_count": 8,
   "metadata": {},
   "outputs": [
    {
     "data": {
      "text/html": [
       "<div>\n",
       "<style scoped>\n",
       "    .dataframe tbody tr th:only-of-type {\n",
       "        vertical-align: middle;\n",
       "    }\n",
       "\n",
       "    .dataframe tbody tr th {\n",
       "        vertical-align: top;\n",
       "    }\n",
       "\n",
       "    .dataframe thead th {\n",
       "        text-align: right;\n",
       "    }\n",
       "</style>\n",
       "<table border=\"1\" class=\"dataframe\">\n",
       "  <thead>\n",
       "    <tr style=\"text-align: right;\">\n",
       "      <th></th>\n",
       "      <th># id</th>\n",
       "      <th>Compound name</th>\n",
       "      <th>CAS number</th>\n",
       "    </tr>\n",
       "  </thead>\n",
       "  <tbody>\n",
       "    <tr>\n",
       "      <th>0</th>\n",
       "      <td>0</td>\n",
       "      <td>jasmone</td>\n",
       "      <td>488-10-8</td>\n",
       "    </tr>\n",
       "    <tr>\n",
       "      <th>1</th>\n",
       "      <td>1</td>\n",
       "      <td>5-methylhexanoic_acid</td>\n",
       "      <td>628-46-6</td>\n",
       "    </tr>\n",
       "    <tr>\n",
       "      <th>2</th>\n",
       "      <td>2</td>\n",
       "      <td>l-glutamine</td>\n",
       "      <td>56-85-9</td>\n",
       "    </tr>\n",
       "    <tr>\n",
       "      <th>3</th>\n",
       "      <td>3</td>\n",
       "      <td>1-methyl-3-methoxy-4-isopropylbenzene</td>\n",
       "      <td>1076-56-8</td>\n",
       "    </tr>\n",
       "    <tr>\n",
       "      <th>4</th>\n",
       "      <td>4</td>\n",
       "      <td>methyl-3-phenylpropionate</td>\n",
       "      <td>103-25-3</td>\n",
       "    </tr>\n",
       "  </tbody>\n",
       "</table>\n",
       "</div>"
      ],
      "text/plain": [
       "  # id                          Compound name CAS number\n",
       "0    0                                jasmone   488-10-8\n",
       "1    1                  5-methylhexanoic_acid   628-46-6\n",
       "2    2                            l-glutamine    56-85-9\n",
       "3    3  1-methyl-3-methoxy-4-isopropylbenzene  1076-56-8\n",
       "4    4              methyl-3-phenylpropionate   103-25-3"
      ]
     },
     "execution_count": 8,
     "metadata": {},
     "output_type": "execute_result"
    }
   ],
   "source": [
    "comp_data.head()"
   ]
  },
  {
   "cell_type": "markdown",
   "metadata": {
    "colab_type": "text",
    "id": "HgzBqgWwHV6y"
   },
   "source": [
    "# ingredient-compound"
   ]
  },
  {
   "cell_type": "code",
   "execution_count": 6,
   "metadata": {
    "colab": {},
    "colab_type": "code",
    "id": "XTZ4Rfr1vgo8"
   },
   "outputs": [],
   "source": [
    "# matrix = ingredient * compounds \n",
    "cols = [i for i in range(1107)]\n",
    "temp = np.zeros((1530,1107), dtype = np.int)"
   ]
  },
  {
   "cell_type": "code",
   "execution_count": 7,
   "metadata": {
    "colab": {},
    "colab_type": "code",
    "id": "xi63tfwA4f_k"
   },
   "outputs": [],
   "source": [
    "# ingredient-compound\n",
    "for idx, row in ingr_comp_data.iterrows():\n",
    "  iID = int(row[\"# ingredient id\"])\n",
    "  cID = int(row[\"compound id\"])\n",
    "  temp[iID, cID] = 1 \n",
    "df_ingr_comp = pd.DataFrame(data = temp)"
   ]
  },
  {
   "cell_type": "code",
   "execution_count": 8,
   "metadata": {
    "colab": {},
    "colab_type": "code",
    "id": "hSHk_xD91dD4"
   },
   "outputs": [],
   "source": [
    "xx = 3\n",
    "mask = df_ingr_comp.iloc[xx] == 1\n",
    "#print(df_ingr_comp.iloc[xx][mask])"
   ]
  },
  {
   "cell_type": "code",
   "execution_count": 9,
   "metadata": {
    "colab": {},
    "colab_type": "code",
    "id": "nvgfQ7umxN4Q"
   },
   "outputs": [],
   "source": [
    "mask_2 = ingr_comp_data[\"# ingredient id\"] == str(xx)\n",
    "#ingr_comp_data[mask_2]"
   ]
  },
  {
   "cell_type": "code",
   "execution_count": 10,
   "metadata": {
    "colab": {},
    "colab_type": "code",
    "id": "00MAzZKrXzTK"
   },
   "outputs": [],
   "source": [
    "pd.DataFrame.to_csv(df_ingr_comp, r\".\\data\\matrix_ingr_comp.csv\", ',')"
   ]
  },
  {
   "cell_type": "markdown",
   "metadata": {
    "colab_type": "text",
    "id": "ef2ccITk81OL"
   },
   "source": [
    "# Recipe-ingredient"
   ]
  },
  {
   "cell_type": "code",
   "execution_count": 11,
   "metadata": {
    "colab": {},
    "colab_type": "code",
    "id": "FpP0GDv580Az"
   },
   "outputs": [],
   "source": [
    "recipes_data.shape\n",
    "cols2 = recipes_data.columns[1:]\n",
    "df_recipes = recipes_data[cols2]\n",
    "df_regions = recipes_data[\"region\"]"
   ]
  },
  {
   "cell_type": "code",
   "execution_count": 12,
   "metadata": {
    "colab": {},
    "colab_type": "code",
    "id": "ask_STTGGK5v"
   },
   "outputs": [],
   "source": [
    "temp2 = np.zeros((56498, 1530), dtype = np.int)"
   ]
  },
  {
   "cell_type": "code",
   "execution_count": 13,
   "metadata": {
    "colab": {},
    "colab_type": "code",
    "id": "MGzQG6189Em9"
   },
   "outputs": [],
   "source": [
    "dict_ingr =  {}\n",
    "invert_dict = {}\n",
    "for idx, row in ingr_data.iterrows():\n",
    "  dict_ingr[row[\"ingredient name\"]] = idx\n",
    "  invert_dict[idx] = row[\"ingredient name\"]\n",
    "for idx, rec in df_recipes.iterrows():\n",
    "  for ingr in rec:\n",
    "    if not (pd.isnull(ingr)):\n",
    "      rID = idx\n",
    "      iID = dict_ingr[ingr]\n",
    "      temp2[rID, iID] = 1\n",
    "df_recip_ingr = pd.DataFrame(data = temp2)"
   ]
  },
  {
   "cell_type": "code",
   "execution_count": 14,
   "metadata": {
    "colab": {
     "base_uri": "https://localhost:8080/",
     "height": 224
    },
    "colab_type": "code",
    "id": "bzXdOcKZ9l3w",
    "outputId": "5ff6a4f9-9426-4e8f-edec-9832f54d6758"
   },
   "outputs": [],
   "source": [
    "#df_recip_ingr.head()"
   ]
  },
  {
   "cell_type": "code",
   "execution_count": 15,
   "metadata": {
    "colab": {},
    "colab_type": "code",
    "id": "9kjt8tiu-red"
   },
   "outputs": [],
   "source": [
    "rr = 3\n",
    "mask2 = df_recip_ingr.iloc[rr] == 1\n",
    "ii = df_recip_ingr.iloc[rr][mask2]\n",
    "temp3 = [invert_dict[i] for i in ii.index.tolist()] "
   ]
  },
  {
   "cell_type": "code",
   "execution_count": 16,
   "metadata": {
    "colab": {
     "base_uri": "https://localhost:8080/",
     "height": 101
    },
    "colab_type": "code",
    "id": "KdYu75TEGRcc",
    "outputId": "f6d0987d-e26b-4c7f-9731-c2fed1440a5e"
   },
   "outputs": [
    {
     "name": "stdout",
     "output_type": "stream",
     "text": [
      "matrix:\n",
      " ['garlic', 'rice', 'beef', 'leek', 'cumin', 'olive_oil', 'wheat', 'cardamom', 'onion', 'pepper']\n",
      "length of matrix:  10\n",
      "data: \n",
      " ['olive_oil', 'pepper', 'wheat', 'beef', 'onion', 'cardamom', 'cumin', 'garlic', 'rice', 'leek']\n"
     ]
    }
   ],
   "source": [
    "print(\"matrix:\\n\", temp3)\n",
    "print(\"length of matrix: \", len(temp3))\n",
    "print(\"data: \\n\", recipes_data.iloc[rr].dropna().values[1:].tolist())"
   ]
  },
  {
   "cell_type": "code",
   "execution_count": 14,
   "metadata": {
    "colab": {},
    "colab_type": "code",
    "id": "BxbkWW-WGWhF"
   },
   "outputs": [
    {
     "ename": "NameError",
     "evalue": "name 'df_recip_ingr' is not defined",
     "output_type": "error",
     "traceback": [
      "\u001b[1;31m---------------------------------------------------------------------------\u001b[0m",
      "\u001b[1;31mNameError\u001b[0m                                 Traceback (most recent call last)",
      "\u001b[1;32m<ipython-input-14-08cf479947d6>\u001b[0m in \u001b[0;36m<module>\u001b[1;34m\u001b[0m\n\u001b[1;32m----> 1\u001b[1;33m \u001b[0mpd\u001b[0m\u001b[1;33m.\u001b[0m\u001b[0mDataFrame\u001b[0m\u001b[1;33m.\u001b[0m\u001b[0mto_csv\u001b[0m\u001b[1;33m(\u001b[0m\u001b[0mdf_recip_ingr\u001b[0m\u001b[1;33m,\u001b[0m \u001b[1;34mr\".\\data\\matrix_recip_ingr.csv\"\u001b[0m\u001b[1;33m,\u001b[0m \u001b[1;34m\",\"\u001b[0m\u001b[1;33m)\u001b[0m\u001b[1;33m\u001b[0m\u001b[1;33m\u001b[0m\u001b[0m\n\u001b[0m",
      "\u001b[1;31mNameError\u001b[0m: name 'df_recip_ingr' is not defined"
     ]
    }
   ],
   "source": [
    "pd.DataFrame.to_csv(df_recip_ingr, r\".\\data\\matrix_recip_ingr.csv\", \",\")"
   ]
  },
  {
   "cell_type": "code",
   "execution_count": 22,
   "metadata": {
    "colab": {},
    "colab_type": "code",
    "id": "kjKLckzeVCf2"
   },
   "outputs": [],
   "source": [
    "# save part of the data 5000*1530\n",
    "pd.DataFrame.to_csv(df_recip_ingr.head(5000), r\".\\data\\test_recip_ingr.csv\", \",\")"
   ]
  },
  {
   "cell_type": "code",
   "execution_count": 43,
   "metadata": {},
   "outputs": [],
   "source": [
    "# save the recipes have more than n ingredients\n",
    "t_df = pd.read_csv(r\".\\data\\matrix_recip_ingr.csv\")\n",
    "del t_df[\"Unnamed: 0\"]"
   ]
  },
  {
   "cell_type": "code",
   "execution_count": 44,
   "metadata": {},
   "outputs": [
    {
     "data": {
      "text/plain": [
       "(55001, 1531)"
      ]
     },
     "execution_count": 44,
     "metadata": {},
     "output_type": "execute_result"
    }
   ],
   "source": [
    "mask_g3 = t_df.apply(np.sum, axis = 1) >= 3\n",
    "df_g3 = t_df.loc[mask_g3,].reset_index()\n",
    "df_g3.shape"
   ]
  },
  {
   "cell_type": "code",
   "execution_count": 48,
   "metadata": {},
   "outputs": [
    {
     "data": {
      "text/html": [
       "<div>\n",
       "<style scoped>\n",
       "    .dataframe tbody tr th:only-of-type {\n",
       "        vertical-align: middle;\n",
       "    }\n",
       "\n",
       "    .dataframe tbody tr th {\n",
       "        vertical-align: top;\n",
       "    }\n",
       "\n",
       "    .dataframe thead th {\n",
       "        text-align: right;\n",
       "    }\n",
       "</style>\n",
       "<table border=\"1\" class=\"dataframe\">\n",
       "  <thead>\n",
       "    <tr style=\"text-align: right;\">\n",
       "      <th></th>\n",
       "      <th>index</th>\n",
       "      <th>0</th>\n",
       "      <th>1</th>\n",
       "      <th>2</th>\n",
       "      <th>3</th>\n",
       "      <th>4</th>\n",
       "      <th>5</th>\n",
       "      <th>6</th>\n",
       "      <th>7</th>\n",
       "      <th>8</th>\n",
       "      <th>...</th>\n",
       "      <th>1520</th>\n",
       "      <th>1521</th>\n",
       "      <th>1522</th>\n",
       "      <th>1523</th>\n",
       "      <th>1524</th>\n",
       "      <th>1525</th>\n",
       "      <th>1526</th>\n",
       "      <th>1527</th>\n",
       "      <th>1528</th>\n",
       "      <th>1529</th>\n",
       "    </tr>\n",
       "  </thead>\n",
       "  <tbody>\n",
       "    <tr>\n",
       "      <th>0</th>\n",
       "      <td>0</td>\n",
       "      <td>0</td>\n",
       "      <td>0</td>\n",
       "      <td>0</td>\n",
       "      <td>0</td>\n",
       "      <td>0</td>\n",
       "      <td>0</td>\n",
       "      <td>0</td>\n",
       "      <td>0</td>\n",
       "      <td>0</td>\n",
       "      <td>...</td>\n",
       "      <td>0</td>\n",
       "      <td>0</td>\n",
       "      <td>0</td>\n",
       "      <td>0</td>\n",
       "      <td>0</td>\n",
       "      <td>0</td>\n",
       "      <td>0</td>\n",
       "      <td>0</td>\n",
       "      <td>0</td>\n",
       "      <td>0</td>\n",
       "    </tr>\n",
       "    <tr>\n",
       "      <th>1</th>\n",
       "      <td>1</td>\n",
       "      <td>0</td>\n",
       "      <td>0</td>\n",
       "      <td>0</td>\n",
       "      <td>0</td>\n",
       "      <td>0</td>\n",
       "      <td>0</td>\n",
       "      <td>0</td>\n",
       "      <td>0</td>\n",
       "      <td>0</td>\n",
       "      <td>...</td>\n",
       "      <td>0</td>\n",
       "      <td>0</td>\n",
       "      <td>0</td>\n",
       "      <td>0</td>\n",
       "      <td>0</td>\n",
       "      <td>0</td>\n",
       "      <td>0</td>\n",
       "      <td>0</td>\n",
       "      <td>0</td>\n",
       "      <td>0</td>\n",
       "    </tr>\n",
       "    <tr>\n",
       "      <th>2</th>\n",
       "      <td>2</td>\n",
       "      <td>0</td>\n",
       "      <td>0</td>\n",
       "      <td>0</td>\n",
       "      <td>0</td>\n",
       "      <td>0</td>\n",
       "      <td>0</td>\n",
       "      <td>0</td>\n",
       "      <td>0</td>\n",
       "      <td>0</td>\n",
       "      <td>...</td>\n",
       "      <td>0</td>\n",
       "      <td>0</td>\n",
       "      <td>0</td>\n",
       "      <td>0</td>\n",
       "      <td>0</td>\n",
       "      <td>0</td>\n",
       "      <td>0</td>\n",
       "      <td>0</td>\n",
       "      <td>0</td>\n",
       "      <td>0</td>\n",
       "    </tr>\n",
       "    <tr>\n",
       "      <th>3</th>\n",
       "      <td>3</td>\n",
       "      <td>0</td>\n",
       "      <td>0</td>\n",
       "      <td>0</td>\n",
       "      <td>0</td>\n",
       "      <td>0</td>\n",
       "      <td>0</td>\n",
       "      <td>0</td>\n",
       "      <td>0</td>\n",
       "      <td>0</td>\n",
       "      <td>...</td>\n",
       "      <td>0</td>\n",
       "      <td>0</td>\n",
       "      <td>0</td>\n",
       "      <td>0</td>\n",
       "      <td>0</td>\n",
       "      <td>0</td>\n",
       "      <td>0</td>\n",
       "      <td>0</td>\n",
       "      <td>0</td>\n",
       "      <td>0</td>\n",
       "    </tr>\n",
       "    <tr>\n",
       "      <th>4</th>\n",
       "      <td>4</td>\n",
       "      <td>0</td>\n",
       "      <td>0</td>\n",
       "      <td>0</td>\n",
       "      <td>0</td>\n",
       "      <td>0</td>\n",
       "      <td>0</td>\n",
       "      <td>0</td>\n",
       "      <td>0</td>\n",
       "      <td>0</td>\n",
       "      <td>...</td>\n",
       "      <td>0</td>\n",
       "      <td>0</td>\n",
       "      <td>0</td>\n",
       "      <td>0</td>\n",
       "      <td>0</td>\n",
       "      <td>0</td>\n",
       "      <td>0</td>\n",
       "      <td>0</td>\n",
       "      <td>0</td>\n",
       "      <td>0</td>\n",
       "    </tr>\n",
       "  </tbody>\n",
       "</table>\n",
       "<p>5 rows × 1531 columns</p>\n",
       "</div>"
      ],
      "text/plain": [
       "   index  0  1  2  3  4  5  6  7  8  ...   1520  1521  1522  1523  1524  1525  \\\n",
       "0      0  0  0  0  0  0  0  0  0  0  ...      0     0     0     0     0     0   \n",
       "1      1  0  0  0  0  0  0  0  0  0  ...      0     0     0     0     0     0   \n",
       "2      2  0  0  0  0  0  0  0  0  0  ...      0     0     0     0     0     0   \n",
       "3      3  0  0  0  0  0  0  0  0  0  ...      0     0     0     0     0     0   \n",
       "4      4  0  0  0  0  0  0  0  0  0  ...      0     0     0     0     0     0   \n",
       "\n",
       "   1526  1527  1528  1529  \n",
       "0     0     0     0     0  \n",
       "1     0     0     0     0  \n",
       "2     0     0     0     0  \n",
       "3     0     0     0     0  \n",
       "4     0     0     0     0  \n",
       "\n",
       "[5 rows x 1531 columns]"
      ]
     },
     "execution_count": 48,
     "metadata": {},
     "output_type": "execute_result"
    }
   ],
   "source": [
    "df_g3.head()"
   ]
  },
  {
   "cell_type": "code",
   "execution_count": 50,
   "metadata": {},
   "outputs": [
    {
     "data": {
      "text/plain": [
       "(48870, 1531)"
      ]
     },
     "execution_count": 50,
     "metadata": {},
     "output_type": "execute_result"
    }
   ],
   "source": [
    "mask_g5 = t_df.apply(np.sum, axis = 1) >= 5\n",
    "df_g5 = t_df.loc[mask_g5,].reset_index()\n",
    "df_g5.shape"
   ]
  },
  {
   "cell_type": "code",
   "execution_count": null,
   "metadata": {},
   "outputs": [],
   "source": []
  },
  {
   "cell_type": "code",
   "execution_count": null,
   "metadata": {},
   "outputs": [],
   "source": []
  }
 ],
 "metadata": {
  "colab": {
   "collapsed_sections": [],
   "name": "data_transformation.ipynb",
   "provenance": [],
   "toc_visible": true,
   "version": "0.3.2"
  },
  "kernelspec": {
   "display_name": "Python 3",
   "language": "python",
   "name": "python3"
  },
  "language_info": {
   "codemirror_mode": {
    "name": "ipython",
    "version": 3
   },
   "file_extension": ".py",
   "mimetype": "text/x-python",
   "name": "python",
   "nbconvert_exporter": "python",
   "pygments_lexer": "ipython3",
   "version": "3.6.7"
  }
 },
 "nbformat": 4,
 "nbformat_minor": 1
}

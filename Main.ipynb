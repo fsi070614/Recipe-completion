{
 "cells": [
  {
   "cell_type": "code",
   "execution_count": 58,
   "metadata": {},
   "outputs": [],
   "source": [
    "import tensorflow as tf\n",
    "import pandas as pd\n",
    "import numpy as np\n",
    "import time\n",
    "import random"
   ]
  },
  {
   "cell_type": "code",
   "execution_count": 59,
   "metadata": {},
   "outputs": [
    {
     "data": {
      "text/plain": [
       "'\\nExperiments using the flavor Network data\\n\\ndescription of data\\n------------------\\nrecip_ingr_data: {n_samples * n_features}\\n                 {recipe_ID * ingredient_ID)} = {56498 * 1530}\\n                 \\ningr_flavor_data: {n_ingr * n_flavor}\\n                   Each ingredient contains some flavor compounds\\n                   size = {1530 * 1107}\\n'"
      ]
     },
     "execution_count": 59,
     "metadata": {},
     "output_type": "execute_result"
    }
   ],
   "source": [
    "'''\n",
    "Experiments using the flavor Network data\n",
    "\n",
    "description of data\n",
    "------------------\n",
    "recip_ingr_data: {n_samples * n_features}\n",
    "                 {recipe_ID * ingredient_ID)} = {56498 * 1530}\n",
    "                 \n",
    "ingr_flavor_data: {n_ingr * n_flavor}\n",
    "                   Each ingredient contains some flavor compounds\n",
    "                   size = {1530 * 1107}\n",
    "'''"
   ]
  },
  {
   "cell_type": "code",
   "execution_count": 60,
   "metadata": {},
   "outputs": [],
   "source": [
    "# draw samples\n",
    "random.seed(time.time())\n",
    "def sampler(recipes):    \n",
    "    cols = recipes.columns\n",
    "    yy = {}\n",
    "    for idx, row in recipes.iterrows():\n",
    "        ingr = []\n",
    "        ll = []\n",
    "        for col in cols:\n",
    "            if row[col] == 1:\n",
    "                ingr.append(col)\n",
    "        random.shuffle(ingr)\n",
    "        yy[idx] = ingr[0]\n",
    "    return yy"
   ]
  },
  {
   "cell_type": "code",
   "execution_count": 61,
   "metadata": {},
   "outputs": [],
   "source": [
    "yy = sampler(recipes)"
   ]
  },
  {
   "cell_type": "code",
   "execution_count": null,
   "metadata": {},
   "outputs": [],
   "source": []
  },
  {
   "cell_type": "code",
   "execution_count": null,
   "metadata": {},
   "outputs": [],
   "source": []
  },
  {
   "cell_type": "code",
   "execution_count": null,
   "metadata": {},
   "outputs": [],
   "source": []
  },
  {
   "cell_type": "code",
   "execution_count": null,
   "metadata": {},
   "outputs": [],
   "source": []
  },
  {
   "cell_type": "code",
   "execution_count": null,
   "metadata": {},
   "outputs": [],
   "source": []
  }
 ],
 "metadata": {
  "kernelspec": {
   "display_name": "Python 3",
   "language": "python",
   "name": "python3"
  },
  "language_info": {
   "codemirror_mode": {
    "name": "ipython",
    "version": 3
   },
   "file_extension": ".py",
   "mimetype": "text/x-python",
   "name": "python",
   "nbconvert_exporter": "python",
   "pygments_lexer": "ipython3",
   "version": "3.6.7"
  }
 },
 "nbformat": 4,
 "nbformat_minor": 2
}
